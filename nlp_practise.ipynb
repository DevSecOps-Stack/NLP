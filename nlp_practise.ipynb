{
  "nbformat": 4,
  "nbformat_minor": 0,
  "metadata": {
    "colab": {
      "provenance": [],
      "authorship_tag": "ABX9TyNnbjUKRh5tvpmaL8XZuuc7",
      "include_colab_link": true
    },
    "kernelspec": {
      "name": "python3",
      "display_name": "Python 3"
    },
    "language_info": {
      "name": "python"
    }
  },
  "cells": [
    {
      "cell_type": "markdown",
      "metadata": {
        "id": "view-in-github",
        "colab_type": "text"
      },
      "source": [
        "<a href=\"https://colab.research.google.com/github/DevSecOps-Stack/NLP/blob/main/nlp_practise.ipynb\" target=\"_parent\"><img src=\"https://colab.research.google.com/assets/colab-badge.svg\" alt=\"Open In Colab\"/></a>"
      ]
    },
    {
      "cell_type": "markdown",
      "source": [
        "Index of Topics Covered:\n",
        "\n",
        "\t1. General Feature Extraction\n",
        "\tØ File loading\n",
        "\tØ Word counts\n",
        "\tØ Characters count\n",
        "\tØ Average characters per word\n",
        "\tØ Stop words count\n",
        "\tØ Count #HashTags and @Mentions\n",
        "\tØ Detection of numeric digits in texts\n",
        "\tØ Upper case word counts\n",
        "\n",
        "\t2. Preprocessing and Cleaning\n",
        "\tØ Lower case conversion\n",
        "\tØ Contraction to expansion\n",
        "\tØ Emails removal and counts\n",
        "\tØ URLs removal and counts\n",
        "\tØ Removal of RT\n",
        "\tØ Special characters removal\n",
        "\tØ Removal of multiple spaces\n",
        "\tØ HTML tags removal\n",
        "\tØ Accented characters removal\n",
        "\tØ Stop words removal\n",
        "\tØ Conversion to base form of words\n",
        "\tØ Common occurring words removal\n",
        "\tØ Rare occurring words removal\n",
        "\tØ Word cloud visualization\n",
        "\tØ Spelling correction\n",
        "\tØ Tokenization\n",
        "\tØ Lemmatization\n",
        "\tØ Detecting entities using Named Entity Recognition (NER)\n",
        "\tØ Noun detection\n",
        "\tØ Language detection\n",
        "\tØ Sentence translation\n",
        "\tØ Using inbuilt sentiment classifier"
      ],
      "metadata": {
        "id": "4cWW0dlyg6dZ"
      }
    },
    {
      "cell_type": "markdown",
      "source": [
        "**1. General Feature Extraction**\n"
      ],
      "metadata": {
        "id": "2tq9riqd2cT4"
      }
    },
    {
      "cell_type": "markdown",
      "source": [
        "**File Loading**"
      ],
      "metadata": {
        "id": "WI6lpKBM2MTc"
      }
    },
    {
      "cell_type": "code",
      "source": [
        "import pandas as pd\n",
        "\n",
        "# Sample DataFrame for demonstration\n",
        "data = pd.DataFrame({\n",
        "    'text_column': [\"This is a sample text.\", \"Another example.\", \"Python programming is fun.\", \"OpenAI creates AI models.\", \"Hello, world!\"]\n",
        "})\n",
        "\n",
        "print(data.head())\n"
      ],
      "metadata": {
        "id": "L-sqBOd-SlYm",
        "outputId": "eb72007a-dd58-4f3a-f1cb-eae27c2aab77",
        "colab": {
          "base_uri": "https://localhost:8080/"
        }
      },
      "execution_count": 10,
      "outputs": [
        {
          "output_type": "stream",
          "name": "stdout",
          "text": [
            "                  text_column  avg_word_length\n",
            "0      This is a sample text.             3.60\n",
            "1            Another example.             7.50\n",
            "2  Python programming is fun.             5.75\n",
            "3   OpenAI creates AI models.             5.50\n",
            "4               Hello, world!             6.00\n"
          ]
        }
      ]
    },
    {
      "cell_type": "markdown",
      "source": [
        "**Word Counts**"
      ],
      "metadata": {
        "id": "o2TPa1V5he08"
      }
    },
    {
      "cell_type": "code",
      "source": [
        "import pandas as pd\n",
        "\n",
        "# Sample DataFrame for demonstration\n",
        "data = pd.DataFrame({\n",
        "    'text_column': [\"This is a sample text.\", \"Another example.\", \"Python programming is fun.\", \"OpenAI creates AI models.\", \"Hello, world!\"]\n",
        "})\n",
        "\n",
        "def word_count(text):\n",
        "    words = text.split()\n",
        "    return len(words)\n",
        "\n",
        "# Applying the word_count function to the 'text_column' and creating a new 'word_count' column\n",
        "data['word_count'] = data['text_column'].apply(word_count)\n",
        "\n",
        "# Printing the first few rows of the DataFrame with the new 'word_count' column\n",
        "print(data[['text_column', 'word_count']].head())\n"
      ],
      "metadata": {
        "id": "_NMMgg60hjhb",
        "outputId": "556dbbfd-1d18-40cd-bed1-3546eebe5330",
        "colab": {
          "base_uri": "https://localhost:8080/"
        }
      },
      "execution_count": 17,
      "outputs": [
        {
          "output_type": "stream",
          "name": "stdout",
          "text": [
            "                  text_column  word_count\n",
            "0      This is a sample text.           5\n",
            "1            Another example.           2\n",
            "2  Python programming is fun.           4\n",
            "3   OpenAI creates AI models.           4\n",
            "4               Hello, world!           2\n"
          ]
        }
      ]
    },
    {
      "cell_type": "markdown",
      "source": [
        "**Characters Count**"
      ],
      "metadata": {
        "id": "km9_wYoOhnTL"
      }
    },
    {
      "cell_type": "code",
      "source": [
        "import pandas as pd\n",
        "\n",
        "# Sample DataFrame for demonstration\n",
        "data = pd.DataFrame({\n",
        "    'text_column': [\"This is a sample text.\", \"Another example.\", \"Python programming is fun.\", \"OpenAI creates AI models.\", \"Hello, world!\"]\n",
        "})\n",
        "\n",
        "def char_count(text):\n",
        "    return len(text)\n",
        "\n",
        "# Applying the char_count function to the 'text_column' and creating a new 'char_count' column\n",
        "data['char_count'] = data['text_column'].apply(char_count)\n",
        "\n",
        "# Printing the first few rows of the DataFrame with the new 'char_count' column\n",
        "print(data[['text_column', 'char_count']].head())\n"
      ],
      "metadata": {
        "id": "O2Fd7urpht3N",
        "outputId": "7c238ffe-220e-421d-97a8-41c50a7ade5e",
        "colab": {
          "base_uri": "https://localhost:8080/"
        }
      },
      "execution_count": 18,
      "outputs": [
        {
          "output_type": "stream",
          "name": "stdout",
          "text": [
            "                  text_column  char_count\n",
            "0      This is a sample text.          22\n",
            "1            Another example.          16\n",
            "2  Python programming is fun.          26\n",
            "3   OpenAI creates AI models.          25\n",
            "4               Hello, world!          13\n"
          ]
        }
      ]
    },
    {
      "cell_type": "markdown",
      "source": [
        "**Average Characters per Word**"
      ],
      "metadata": {
        "id": "HX0_AKumkYOM"
      }
    },
    {
      "cell_type": "code",
      "source": [
        "import pandas as pd\n",
        "\n",
        "# Sample DataFrame for demonstration\n",
        "data = pd.DataFrame({\n",
        "    'text_column': [\"This is a sample text.\", \"Another example.\", \"Python programming is fun.\", \"OpenAI creates AI models.\", \"Hello, world!\"]\n",
        "})\n",
        "\n",
        "def avg_word_length(text):\n",
        "    words = text.split()\n",
        "    return sum(len(word) for word in words) / len(words)\n",
        "\n",
        "# Applying the avg_word_length function to the 'text_column' and creating a new 'avg_word_length' column\n",
        "data['avg_word_length'] = data['text_column'].apply(avg_word_length)\n",
        "\n",
        "# Printing the first few rows of the DataFrame with the new 'avg_word_length' column\n",
        "print(data[['text_column', 'avg_word_length']].head())\n"
      ],
      "metadata": {
        "id": "b-WjobQAkcKn",
        "outputId": "08fae419-ed77-409e-8b83-4b312aadc3ec",
        "colab": {
          "base_uri": "https://localhost:8080/"
        }
      },
      "execution_count": 19,
      "outputs": [
        {
          "output_type": "stream",
          "name": "stdout",
          "text": [
            "                  text_column  avg_word_length\n",
            "0      This is a sample text.             3.60\n",
            "1            Another example.             7.50\n",
            "2  Python programming is fun.             5.75\n",
            "3   OpenAI creates AI models.             5.50\n",
            "4               Hello, world!             6.00\n"
          ]
        }
      ]
    },
    {
      "cell_type": "markdown",
      "source": [
        "**Stop Words Count**"
      ],
      "metadata": {
        "id": "qTjkABHkkfrK"
      }
    },
    {
      "cell_type": "code",
      "source": [
        "import pandas as pd\n",
        "from nltk.corpus import stopwords\n",
        "import nltk\n",
        "nltk.download('stopwords')\n",
        "\n",
        "# Sample DataFrame for demonstration\n",
        "data = pd.DataFrame({\n",
        "    'text_column': [\"This is a sample text.\", \"Another example.\", \"Python programming is fun.\", \"OpenAI creates AI models.\", \"Hello, world!\"]\n",
        "})\n",
        "\n",
        "stop_words = set(stopwords.words('english'))\n",
        "\n",
        "def stop_words_count(text):\n",
        "    words = text.split()\n",
        "    return len([word for word in words if word.lower() in stop_words])\n",
        "\n",
        "# Applying the stop_words_count function to the 'text_column' and creating a new 'stop_words_count' column\n",
        "data['stop_words_count'] = data['text_column'].apply(stop_words_count)\n",
        "\n",
        "# Printing the first few rows of the DataFrame with the new 'stop_words_count' column\n",
        "print(data[['text_column', 'stop_words_count']].head())\n"
      ],
      "metadata": {
        "id": "RT_ZNGqOkisR",
        "outputId": "12318f9a-36c5-48fe-d962-0de98868db29",
        "colab": {
          "base_uri": "https://localhost:8080/"
        }
      },
      "execution_count": 20,
      "outputs": [
        {
          "output_type": "stream",
          "name": "stdout",
          "text": [
            "                  text_column  stop_words_count\n",
            "0      This is a sample text.                 3\n",
            "1            Another example.                 0\n",
            "2  Python programming is fun.                 1\n",
            "3   OpenAI creates AI models.                 0\n",
            "4               Hello, world!                 0\n"
          ]
        },
        {
          "output_type": "stream",
          "name": "stderr",
          "text": [
            "[nltk_data] Downloading package stopwords to /root/nltk_data...\n",
            "[nltk_data]   Package stopwords is already up-to-date!\n"
          ]
        }
      ]
    },
    {
      "cell_type": "markdown",
      "source": [
        "**Count #HashTags and @Mentions**"
      ],
      "metadata": {
        "id": "WgrbPMGklMLR"
      }
    },
    {
      "cell_type": "code",
      "source": [
        "import pandas as pd\n",
        "import re\n",
        "\n",
        "# Sample DataFrame for demonstration\n",
        "data = pd.DataFrame({\n",
        "    'text_column': [\"This is a sample text. #example\", \"Another example. @user\", \"Python programming is fun. #Python\", \"OpenAI creates AI models.\", \"Hello, world! @openai\"]\n",
        "})\n",
        "\n",
        "def hashtag_count(text):\n",
        "    hashtags = re.findall(r'#\\w+', text)\n",
        "    return len(hashtags)\n",
        "\n",
        "def mention_count(text):\n",
        "    mentions = re.findall(r'@\\w+', text)\n",
        "    return len(mentions)\n",
        "\n",
        "# Applying the hashtag_count and mention_count functions to the 'text_column' and creating new columns\n",
        "data['hashtag_count'] = data['text_column'].apply(hashtag_count)\n",
        "data['mention_count'] = data['text_column'].apply(mention_count)\n",
        "\n",
        "# Printing the first few rows of the DataFrame with the new columns\n",
        "print(data[['text_column', 'hashtag_count', 'mention_count']].head())\n"
      ],
      "metadata": {
        "id": "yi0WfG0PmIBa",
        "outputId": "8190014b-24f1-4b6e-a1ef-fac7627de231",
        "colab": {
          "base_uri": "https://localhost:8080/"
        }
      },
      "execution_count": 27,
      "outputs": [
        {
          "output_type": "stream",
          "name": "stdout",
          "text": [
            "                          text_column  hashtag_count  mention_count\n",
            "0     This is a sample text. #example              1              0\n",
            "1              Another example. @user              0              1\n",
            "2  Python programming is fun. #Python              1              0\n",
            "3           OpenAI creates AI models.              0              0\n",
            "4               Hello, world! @openai              0              1\n"
          ]
        }
      ]
    },
    {
      "cell_type": "markdown",
      "source": [
        "**Detection of Numeric Digits**"
      ],
      "metadata": {
        "id": "gCUc0nSCobKv"
      }
    },
    {
      "cell_type": "code",
      "source": [
        "import pandas as pd\n",
        "\n",
        "# Sample DataFrame for demonstration\n",
        "data = pd.DataFrame({\n",
        "    'text_column': [\"This is a sample text with number 123.\", \"Another example.\", \"Python programming is fun.\", \"OpenAI creates AI models.\", \"Hello, world!\"]\n",
        "})\n",
        "\n",
        "def has_digits(text):\n",
        "    return any(char.isdigit() for char in text)\n",
        "\n",
        "# Applying the has_digits function to the 'text_column' and creating a new 'has_digits' column\n",
        "data['has_digits'] = data['text_column'].apply(has_digits)\n",
        "\n",
        "# Printing the first few rows of the DataFrame with the new 'has_digits' column\n",
        "print(data[['text_column', 'has_digits']].head())\n"
      ],
      "metadata": {
        "id": "U6qQDRW3ogAr",
        "outputId": "101b6727-bde2-4ab8-a5d6-9c109209a590",
        "colab": {
          "base_uri": "https://localhost:8080/"
        }
      },
      "execution_count": 33,
      "outputs": [
        {
          "output_type": "stream",
          "name": "stdout",
          "text": [
            "                              text_column  has_digits\n",
            "0  This is a sample text with number 123.        True\n",
            "1                        Another example.       False\n",
            "2              Python programming is fun.       False\n",
            "3               OpenAI creates AI models.       False\n",
            "4                           Hello, world!       False\n"
          ]
        }
      ]
    },
    {
      "cell_type": "markdown",
      "source": [
        "**Upper Case Word Counts**"
      ],
      "metadata": {
        "id": "PmA4mW08pgYN"
      }
    },
    {
      "cell_type": "code",
      "source": [
        "import pandas as pd\n",
        "\n",
        "# Sample DataFrame for demonstration\n",
        "data = pd.DataFrame({\n",
        "    'text_column': [\"This is a sample text.\", \"Another EXAMPLE.\", \"Python programming is FUN.\", \"OpenAI creates AI MODELS.\", \"HELLO, world!\"]\n",
        "})\n",
        "\n",
        "def upper_case_count(text):\n",
        "    words = text.split()\n",
        "    return len([word for word in words if word.isupper()])\n",
        "\n",
        "# Applying the upper_case_count function to the 'text_column' and creating a new 'upper_case_count' column\n",
        "data['upper_case_count'] = data['text_column'].apply(upper_case_count)\n",
        "\n",
        "# Printing the first few rows of the DataFrame with the new 'upper_case_count' column\n",
        "print(data[['text_column', 'upper_case_count']].head())\n"
      ],
      "metadata": {
        "id": "sG9obLbnpjtz",
        "outputId": "cec5ead3-f5a6-47d7-e0a6-026cc59682d4",
        "colab": {
          "base_uri": "https://localhost:8080/"
        }
      },
      "execution_count": 36,
      "outputs": [
        {
          "output_type": "stream",
          "name": "stdout",
          "text": [
            "                  text_column  upper_case_count\n",
            "0      This is a sample text.                 0\n",
            "1            Another EXAMPLE.                 1\n",
            "2  Python programming is FUN.                 1\n",
            "3   OpenAI creates AI MODELS.                 2\n",
            "4               HELLO, world!                 1\n"
          ]
        }
      ]
    }
  ]
}