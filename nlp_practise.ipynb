{
  "nbformat": 4,
  "nbformat_minor": 0,
  "metadata": {
    "colab": {
      "provenance": [],
      "authorship_tag": "ABX9TyPyNSJN6i6GFnIf0pnjpH3L",
      "include_colab_link": true
    },
    "kernelspec": {
      "name": "python3",
      "display_name": "Python 3"
    },
    "language_info": {
      "name": "python"
    }
  },
  "cells": [
    {
      "cell_type": "markdown",
      "metadata": {
        "id": "view-in-github",
        "colab_type": "text"
      },
      "source": [
        "<a href=\"https://colab.research.google.com/github/DevSecOps-Stack/NLP/blob/main/nlp_practise.ipynb\" target=\"_parent\"><img src=\"https://colab.research.google.com/assets/colab-badge.svg\" alt=\"Open In Colab\"/></a>"
      ]
    },
    {
      "cell_type": "markdown",
      "source": [
        "**NLP Practise**"
      ],
      "metadata": {
        "id": "2tq9riqd2cT4"
      }
    },
    {
      "cell_type": "code",
      "source": [
        "!pip install -U pip setuptools wheel\n",
        "!pip install -U spacy\n",
        "!python -m spacy download en_core_web_sm\n",
        "!pip install beautifultable\n",
        "!pip install nltk"
      ],
      "metadata": {
        "id": "fd9H-0-MLkso",
        "collapsed": true
      },
      "execution_count": null,
      "outputs": []
    },
    {
      "cell_type": "markdown",
      "source": [
        "**Phrase matcher**"
      ],
      "metadata": {
        "id": "WI6lpKBM2MTc"
      }
    },
    {
      "cell_type": "code",
      "source": [
        "import spacy\n",
        "from spacy.matcher import PhraseMatcher\n",
        "\n",
        "# Load spaCy model\n",
        "nlp = spacy.load(\"en_core_web_sm\")\n",
        "\n",
        "# Create PhraseMatcher object\n",
        "matcher = PhraseMatcher(nlp.vocab)\n",
        "\n",
        "# Phrase to match\n",
        "phrase = \"hello world\"\n",
        "pattern = nlp(phrase)\n",
        "\n",
        "# Add pattern to matcher\n",
        "matcher.add(\"GREETING\", [pattern])\n",
        "\n",
        "# Text to search\n",
        "doc = nlp(\"hello world, welcome to spaCy!\")\n",
        "\n",
        "# Find matches\n",
        "matches = matcher(doc)\n",
        "\n",
        "# Display matches\n",
        "for match_id, start, end in matches:\n",
        "    print(doc[start:end].text)\n"
      ],
      "metadata": {
        "colab": {
          "base_uri": "https://localhost:8080/"
        },
        "id": "rGL5h-at0IkO",
        "outputId": "09b82500-f115-4cad-cb4f-13b523b6e61c"
      },
      "execution_count": 3,
      "outputs": [
        {
          "output_type": "stream",
          "name": "stdout",
          "text": [
            "hello world\n"
          ]
        }
      ]
    },
    {
      "cell_type": "markdown",
      "source": [],
      "metadata": {
        "id": "dM8tNo7Z2aNp"
      }
    }
  ]
}